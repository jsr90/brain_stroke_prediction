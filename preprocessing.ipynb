{
 "cells": [
  {
   "cell_type": "markdown",
   "id": "35fe4adb",
   "metadata": {
    "_cell_guid": "b1076dfc-b9ad-4769-8c92-a6c4dae69d19",
    "_uuid": "8f2839f25d086af736a60e9eeb907d3b93b6e0e5",
    "execution": {
     "iopub.execute_input": "2022-07-22T19:56:17.592687Z",
     "iopub.status.busy": "2022-07-22T19:56:17.592387Z",
     "iopub.status.idle": "2022-07-22T19:56:17.598141Z",
     "shell.execute_reply": "2022-07-22T19:56:17.596370Z",
     "shell.execute_reply.started": "2022-07-22T19:56:17.592659Z"
    },
    "papermill": {
     "duration": 0.006926,
     "end_time": "2022-07-23T15:29:08.366283",
     "exception": false,
     "start_time": "2022-07-23T15:29:08.359357",
     "status": "completed"
    },
    "tags": []
   },
   "source": [
    "# **Brain Stroke Prediction using machine learning**"
   ]
  },
  {
   "cell_type": "markdown",
   "id": "437cc83b",
   "metadata": {
    "papermill": {
     "duration": 0.006485,
     "end_time": "2022-07-23T15:29:08.379681",
     "exception": false,
     "start_time": "2022-07-23T15:29:08.373196",
     "status": "completed"
    },
    "tags": []
   },
   "source": [
    "## Reading dataset and getting global information"
   ]
  },
  {
   "cell_type": "code",
   "execution_count": 1,
   "id": "6dc767cb",
   "metadata": {
    "execution": {
     "iopub.execute_input": "2022-07-23T15:29:08.394235Z",
     "iopub.status.busy": "2022-07-23T15:29:08.393691Z",
     "iopub.status.idle": "2022-07-23T15:29:09.739997Z",
     "shell.execute_reply": "2022-07-23T15:29:09.738287Z"
    },
    "papermill": {
     "duration": 1.357492,
     "end_time": "2022-07-23T15:29:09.743317",
     "exception": false,
     "start_time": "2022-07-23T15:29:08.385825",
     "status": "completed"
    },
    "tags": []
   },
   "outputs": [],
   "source": [
    "# Import needed packages\n",
    "import pandas as pd\n",
    "import numpy as np\n",
    "import matplotlib.pyplot as plt\n",
    "import seaborn as sns\n",
    "import warnings\n",
    "warnings.filterwarnings('ignore') # hides warnings to get proper outputs"
   ]
  },
  {
   "cell_type": "code",
   "execution_count": 2,
   "id": "eb7c7cf3",
   "metadata": {
    "execution": {
     "iopub.execute_input": "2022-07-23T15:29:09.757003Z",
     "iopub.status.busy": "2022-07-23T15:29:09.756556Z",
     "iopub.status.idle": "2022-07-23T15:29:09.799841Z",
     "shell.execute_reply": "2022-07-23T15:29:09.798015Z"
    },
    "papermill": {
     "duration": 0.053608,
     "end_time": "2022-07-23T15:29:09.802991",
     "exception": false,
     "start_time": "2022-07-23T15:29:09.749383",
     "status": "completed"
    },
    "tags": []
   },
   "outputs": [
    {
     "data": {
      "text/html": [
       "<div>\n",
       "<style scoped>\n",
       "    .dataframe tbody tr th:only-of-type {\n",
       "        vertical-align: middle;\n",
       "    }\n",
       "\n",
       "    .dataframe tbody tr th {\n",
       "        vertical-align: top;\n",
       "    }\n",
       "\n",
       "    .dataframe thead th {\n",
       "        text-align: right;\n",
       "    }\n",
       "</style>\n",
       "<table border=\"1\" class=\"dataframe\">\n",
       "  <thead>\n",
       "    <tr style=\"text-align: right;\">\n",
       "      <th></th>\n",
       "      <th>gender</th>\n",
       "      <th>age</th>\n",
       "      <th>hypertension</th>\n",
       "      <th>heart_disease</th>\n",
       "      <th>ever_married</th>\n",
       "      <th>work_type</th>\n",
       "      <th>Residence_type</th>\n",
       "      <th>avg_glucose_level</th>\n",
       "      <th>bmi</th>\n",
       "      <th>smoking_status</th>\n",
       "      <th>stroke</th>\n",
       "    </tr>\n",
       "  </thead>\n",
       "  <tbody>\n",
       "    <tr>\n",
       "      <th>0</th>\n",
       "      <td>Male</td>\n",
       "      <td>67.0</td>\n",
       "      <td>0</td>\n",
       "      <td>1</td>\n",
       "      <td>Yes</td>\n",
       "      <td>Private</td>\n",
       "      <td>Urban</td>\n",
       "      <td>228.69</td>\n",
       "      <td>36.6</td>\n",
       "      <td>formerly smoked</td>\n",
       "      <td>1</td>\n",
       "    </tr>\n",
       "    <tr>\n",
       "      <th>1</th>\n",
       "      <td>Male</td>\n",
       "      <td>80.0</td>\n",
       "      <td>0</td>\n",
       "      <td>1</td>\n",
       "      <td>Yes</td>\n",
       "      <td>Private</td>\n",
       "      <td>Rural</td>\n",
       "      <td>105.92</td>\n",
       "      <td>32.5</td>\n",
       "      <td>never smoked</td>\n",
       "      <td>1</td>\n",
       "    </tr>\n",
       "    <tr>\n",
       "      <th>2</th>\n",
       "      <td>Female</td>\n",
       "      <td>49.0</td>\n",
       "      <td>0</td>\n",
       "      <td>0</td>\n",
       "      <td>Yes</td>\n",
       "      <td>Private</td>\n",
       "      <td>Urban</td>\n",
       "      <td>171.23</td>\n",
       "      <td>34.4</td>\n",
       "      <td>smokes</td>\n",
       "      <td>1</td>\n",
       "    </tr>\n",
       "    <tr>\n",
       "      <th>3</th>\n",
       "      <td>Female</td>\n",
       "      <td>79.0</td>\n",
       "      <td>1</td>\n",
       "      <td>0</td>\n",
       "      <td>Yes</td>\n",
       "      <td>Self-employed</td>\n",
       "      <td>Rural</td>\n",
       "      <td>174.12</td>\n",
       "      <td>24.0</td>\n",
       "      <td>never smoked</td>\n",
       "      <td>1</td>\n",
       "    </tr>\n",
       "    <tr>\n",
       "      <th>4</th>\n",
       "      <td>Male</td>\n",
       "      <td>81.0</td>\n",
       "      <td>0</td>\n",
       "      <td>0</td>\n",
       "      <td>Yes</td>\n",
       "      <td>Private</td>\n",
       "      <td>Urban</td>\n",
       "      <td>186.21</td>\n",
       "      <td>29.0</td>\n",
       "      <td>formerly smoked</td>\n",
       "      <td>1</td>\n",
       "    </tr>\n",
       "  </tbody>\n",
       "</table>\n",
       "</div>"
      ],
      "text/plain": [
       "   gender   age  hypertension  heart_disease ever_married      work_type  \\\n",
       "0    Male  67.0             0              1          Yes        Private   \n",
       "1    Male  80.0             0              1          Yes        Private   \n",
       "2  Female  49.0             0              0          Yes        Private   \n",
       "3  Female  79.0             1              0          Yes  Self-employed   \n",
       "4    Male  81.0             0              0          Yes        Private   \n",
       "\n",
       "  Residence_type  avg_glucose_level   bmi   smoking_status  stroke  \n",
       "0          Urban             228.69  36.6  formerly smoked       1  \n",
       "1          Rural             105.92  32.5     never smoked       1  \n",
       "2          Urban             171.23  34.4           smokes       1  \n",
       "3          Rural             174.12  24.0     never smoked       1  \n",
       "4          Urban             186.21  29.0  formerly smoked       1  "
      ]
     },
     "execution_count": 2,
     "metadata": {},
     "output_type": "execute_result"
    }
   ],
   "source": [
    "# Use pandas to read csv file and show top 5 rows\n",
    "dir = 'data/full_data.csv'\n",
    "my_data = pd.read_csv(dir)\n",
    "my_data.head()"
   ]
  },
  {
   "cell_type": "code",
   "execution_count": 3,
   "id": "8054d27e",
   "metadata": {},
   "outputs": [
    {
     "data": {
      "text/plain": [
       "gender               0\n",
       "age                  0\n",
       "hypertension         0\n",
       "heart_disease        0\n",
       "ever_married         0\n",
       "work_type            0\n",
       "Residence_type       0\n",
       "avg_glucose_level    0\n",
       "bmi                  0\n",
       "smoking_status       0\n",
       "stroke               0\n",
       "dtype: int64"
      ]
     },
     "execution_count": 3,
     "metadata": {},
     "output_type": "execute_result"
    }
   ],
   "source": [
    "my_data.isnull().sum()"
   ]
  },
  {
   "cell_type": "markdown",
   "id": "1357e6ab",
   "metadata": {
    "papermill": {
     "duration": 0.00623,
     "end_time": "2022-07-23T15:29:09.882231",
     "exception": false,
     "start_time": "2022-07-23T15:29:09.876001",
     "status": "completed"
    },
    "tags": []
   },
   "source": [
    "## Plotting variables"
   ]
  },
  {
   "cell_type": "code",
   "execution_count": 4,
   "id": "e3fabea7",
   "metadata": {
    "execution": {
     "iopub.execute_input": "2022-07-23T15:29:09.897369Z",
     "iopub.status.busy": "2022-07-23T15:29:09.896927Z",
     "iopub.status.idle": "2022-07-23T15:29:10.854487Z",
     "shell.execute_reply": "2022-07-23T15:29:10.852789Z"
    },
    "papermill": {
     "duration": 0.968757,
     "end_time": "2022-07-23T15:29:10.857646",
     "exception": false,
     "start_time": "2022-07-23T15:29:09.888889",
     "status": "completed"
    },
    "tags": []
   },
   "outputs": [
    {
     "data": {
      "image/png": "[encoded data removed]",
      "text/plain": [
       "<Figure size 1728x576 with 10 Axes>"
      ]
     },
     "metadata": {
      "needs_background": "light"
     },
     "output_type": "display_data"
    }
   ],
   "source": [
    "from statistics import mean, median\n",
    "\n",
    "\n",
    "cont_columns = ['age', 'avg_glucose_level', 'bmi']\n",
    "\n",
    "\n",
    "# Define a function to plot each variable\n",
    "def plot(my_data, n_rows, n_cols):\n",
    "    # my_data: dataset to plot\n",
    "    # n_rows: number of rows of the graph\n",
    "    # n_cols: number of columns of the graph\n",
    "    sns.set()\n",
    "    fig, axes = plt.subplots(n_rows, n_cols, figsize=(24, 8))\n",
    "\n",
    "    col = 0\n",
    "    row = 0\n",
    "    # col defines the position of the subplot in the graph\n",
    "    for column in my_data.drop('stroke', axis=1).columns:\n",
    "        if column in cont_columns:\n",
    "            sns.boxplot(data=my_data, x=column, hue='stroke', ax=axes[row, col])\n",
    "        else:\n",
    "            sns.histplot(data=my_data, x=column, hue='stroke', ax=axes[row, col])\n",
    "        if (col < n_cols-1):\n",
    "            col += 1\n",
    "        else:\n",
    "            col = 0\n",
    "            row += 1\n",
    "\n",
    "plot(my_data, 2, 5)"
   ]
  },
  {
   "cell_type": "markdown",
   "id": "37f419ec",
   "metadata": {},
   "source": [
    "## Transform categorical variables"
   ]
  },
  {
   "cell_type": "markdown",
   "id": "0ae84137",
   "metadata": {},
   "source": [
    "As gender, ever_married and Residence_type are binary variables, they will be encoded using label encoder:"
   ]
  },
  {
   "cell_type": "code",
   "execution_count": 5,
   "id": "7e88d1d9",
   "metadata": {},
   "outputs": [],
   "source": [
    "from sklearn import preprocessing\n",
    "\n",
    "data = my_data.copy(deep=True)\n",
    "columns = ['gender', 'ever_married', 'Residence_type']\n",
    "\n",
    "# Label Encoder\n",
    "le = preprocessing.LabelEncoder()\n",
    "\n",
    "codes = {} # Dict to store tags and values\n",
    "for column in columns:\n",
    "    data[column] = le.fit_transform(data[column])\n",
    "    col = pd.concat([pd.DataFrame(le.classes_, columns=[column]), pd.DataFrame(le.transform(le.classes_), columns=['value'])], axis=1)\n",
    "    codes[column] = col"
   ]
  },
  {
   "cell_type": "markdown",
   "id": "247298ca",
   "metadata": {},
   "source": [
    "On the other hand, work_type and smoking_status will be encoded using OHE:"
   ]
  },
  {
   "cell_type": "code",
   "execution_count": 6,
   "id": "00ec02d3",
   "metadata": {},
   "outputs": [],
   "source": [
    "columns = ['work_type', 'smoking_status']\n",
    "\n",
    "# OHE\n",
    "ohe = preprocessing.OneHotEncoder(handle_unknown='ignore', dtype=int)\n",
    "\n",
    "for column in columns:\n",
    "    ohe.fit(np.array(data[column]).reshape(-1,1))\n",
    "\n",
    "    arr = ohe.transform(np.array(data[column]).reshape(-1,1)).toarray()\n",
    "    df = pd.DataFrame(arr, columns=column+'_'+ohe.categories_[0])\n",
    "\n",
    "    data = data.drop(columns=[column]).join(df)\n",
    "\n",
    "    dic = {}\n",
    "    for i in ohe.categories_[0]:\n",
    "        dic[i] = ohe.transform([[i]]).toarray()[0]\n",
    "\n",
    "    codes[column] = dic\n",
    "\n"
   ]
  },
  {
   "cell_type": "markdown",
   "id": "579ba373",
   "metadata": {},
   "source": [
    "Each encoded column has been stored in codes, so we have acces to its values:"
   ]
  },
  {
   "cell_type": "code",
   "execution_count": 7,
   "id": "859ce906",
   "metadata": {},
   "outputs": [
    {
     "data": {
      "text/html": [
       "<div>\n",
       "<style scoped>\n",
       "    .dataframe tbody tr th:only-of-type {\n",
       "        vertical-align: middle;\n",
       "    }\n",
       "\n",
       "    .dataframe tbody tr th {\n",
       "        vertical-align: top;\n",
       "    }\n",
       "\n",
       "    .dataframe thead th {\n",
       "        text-align: right;\n",
       "    }\n",
       "</style>\n",
       "<table border=\"1\" class=\"dataframe\">\n",
       "  <thead>\n",
       "    <tr style=\"text-align: right;\">\n",
       "      <th></th>\n",
       "      <th>gender</th>\n",
       "      <th>value</th>\n",
       "    </tr>\n",
       "  </thead>\n",
       "  <tbody>\n",
       "    <tr>\n",
       "      <th>0</th>\n",
       "      <td>Female</td>\n",
       "      <td>0</td>\n",
       "    </tr>\n",
       "    <tr>\n",
       "      <th>1</th>\n",
       "      <td>Male</td>\n",
       "      <td>1</td>\n",
       "    </tr>\n",
       "  </tbody>\n",
       "</table>\n",
       "</div>"
      ],
      "text/plain": [
       "   gender  value\n",
       "0  Female      0\n",
       "1    Male      1"
      ]
     },
     "execution_count": 7,
     "metadata": {},
     "output_type": "execute_result"
    }
   ],
   "source": [
    "pd.DataFrame.from_dict(codes['gender'])"
   ]
  },
  {
   "cell_type": "code",
   "execution_count": 8,
   "id": "ced06608",
   "metadata": {},
   "outputs": [
    {
     "data": {
      "text/html": [
       "<div>\n",
       "<style scoped>\n",
       "    .dataframe tbody tr th:only-of-type {\n",
       "        vertical-align: middle;\n",
       "    }\n",
       "\n",
       "    .dataframe tbody tr th {\n",
       "        vertical-align: top;\n",
       "    }\n",
       "\n",
       "    .dataframe thead th {\n",
       "        text-align: right;\n",
       "    }\n",
       "</style>\n",
       "<table border=\"1\" class=\"dataframe\">\n",
       "  <thead>\n",
       "    <tr style=\"text-align: right;\">\n",
       "      <th></th>\n",
       "      <th>ever_married</th>\n",
       "      <th>value</th>\n",
       "    </tr>\n",
       "  </thead>\n",
       "  <tbody>\n",
       "    <tr>\n",
       "      <th>0</th>\n",
       "      <td>No</td>\n",
       "      <td>0</td>\n",
       "    </tr>\n",
       "    <tr>\n",
       "      <th>1</th>\n",
       "      <td>Yes</td>\n",
       "      <td>1</td>\n",
       "    </tr>\n",
       "  </tbody>\n",
       "</table>\n",
       "</div>"
      ],
      "text/plain": [
       "  ever_married  value\n",
       "0           No      0\n",
       "1          Yes      1"
      ]
     },
     "execution_count": 8,
     "metadata": {},
     "output_type": "execute_result"
    }
   ],
   "source": [
    "pd.DataFrame.from_dict(codes['ever_married'])"
   ]
  },
  {
   "cell_type": "code",
   "execution_count": 9,
   "id": "582ad305",
   "metadata": {},
   "outputs": [
    {
     "data": {
      "text/html": [
       "<div>\n",
       "<style scoped>\n",
       "    .dataframe tbody tr th:only-of-type {\n",
       "        vertical-align: middle;\n",
       "    }\n",
       "\n",
       "    .dataframe tbody tr th {\n",
       "        vertical-align: top;\n",
       "    }\n",
       "\n",
       "    .dataframe thead th {\n",
       "        text-align: right;\n",
       "    }\n",
       "</style>\n",
       "<table border=\"1\" class=\"dataframe\">\n",
       "  <thead>\n",
       "    <tr style=\"text-align: right;\">\n",
       "      <th></th>\n",
       "      <th>Residence_type</th>\n",
       "      <th>value</th>\n",
       "    </tr>\n",
       "  </thead>\n",
       "  <tbody>\n",
       "    <tr>\n",
       "      <th>0</th>\n",
       "      <td>Rural</td>\n",
       "      <td>0</td>\n",
       "    </tr>\n",
       "    <tr>\n",
       "      <th>1</th>\n",
       "      <td>Urban</td>\n",
       "      <td>1</td>\n",
       "    </tr>\n",
       "  </tbody>\n",
       "</table>\n",
       "</div>"
      ],
      "text/plain": [
       "  Residence_type  value\n",
       "0          Rural      0\n",
       "1          Urban      1"
      ]
     },
     "execution_count": 9,
     "metadata": {},
     "output_type": "execute_result"
    }
   ],
   "source": [
    "pd.DataFrame.from_dict(codes['Residence_type'])"
   ]
  },
  {
   "cell_type": "code",
   "execution_count": 10,
   "id": "ddd02127",
   "metadata": {},
   "outputs": [
    {
     "data": {
      "text/html": [
       "<div>\n",
       "<style scoped>\n",
       "    .dataframe tbody tr th:only-of-type {\n",
       "        vertical-align: middle;\n",
       "    }\n",
       "\n",
       "    .dataframe tbody tr th {\n",
       "        vertical-align: top;\n",
       "    }\n",
       "\n",
       "    .dataframe thead th {\n",
       "        text-align: right;\n",
       "    }\n",
       "</style>\n",
       "<table border=\"1\" class=\"dataframe\">\n",
       "  <thead>\n",
       "    <tr style=\"text-align: right;\">\n",
       "      <th></th>\n",
       "      <th>0</th>\n",
       "      <th>1</th>\n",
       "      <th>2</th>\n",
       "      <th>3</th>\n",
       "    </tr>\n",
       "  </thead>\n",
       "  <tbody>\n",
       "    <tr>\n",
       "      <th>Govt_job</th>\n",
       "      <td>1</td>\n",
       "      <td>0</td>\n",
       "      <td>0</td>\n",
       "      <td>0</td>\n",
       "    </tr>\n",
       "    <tr>\n",
       "      <th>Private</th>\n",
       "      <td>0</td>\n",
       "      <td>1</td>\n",
       "      <td>0</td>\n",
       "      <td>0</td>\n",
       "    </tr>\n",
       "    <tr>\n",
       "      <th>Self-employed</th>\n",
       "      <td>0</td>\n",
       "      <td>0</td>\n",
       "      <td>1</td>\n",
       "      <td>0</td>\n",
       "    </tr>\n",
       "    <tr>\n",
       "      <th>children</th>\n",
       "      <td>0</td>\n",
       "      <td>0</td>\n",
       "      <td>0</td>\n",
       "      <td>1</td>\n",
       "    </tr>\n",
       "  </tbody>\n",
       "</table>\n",
       "</div>"
      ],
      "text/plain": [
       "               0  1  2  3\n",
       "Govt_job       1  0  0  0\n",
       "Private        0  1  0  0\n",
       "Self-employed  0  0  1  0\n",
       "children       0  0  0  1"
      ]
     },
     "execution_count": 10,
     "metadata": {},
     "output_type": "execute_result"
    }
   ],
   "source": [
    "pd.DataFrame.from_dict(codes['work_type'], orient='index')"
   ]
  },
  {
   "cell_type": "code",
   "execution_count": 11,
   "id": "e8e30a1c",
   "metadata": {},
   "outputs": [
    {
     "data": {
      "text/html": [
       "<div>\n",
       "<style scoped>\n",
       "    .dataframe tbody tr th:only-of-type {\n",
       "        vertical-align: middle;\n",
       "    }\n",
       "\n",
       "    .dataframe tbody tr th {\n",
       "        vertical-align: top;\n",
       "    }\n",
       "\n",
       "    .dataframe thead th {\n",
       "        text-align: right;\n",
       "    }\n",
       "</style>\n",
       "<table border=\"1\" class=\"dataframe\">\n",
       "  <thead>\n",
       "    <tr style=\"text-align: right;\">\n",
       "      <th></th>\n",
       "      <th>0</th>\n",
       "      <th>1</th>\n",
       "      <th>2</th>\n",
       "      <th>3</th>\n",
       "    </tr>\n",
       "  </thead>\n",
       "  <tbody>\n",
       "    <tr>\n",
       "      <th>Unknown</th>\n",
       "      <td>1</td>\n",
       "      <td>0</td>\n",
       "      <td>0</td>\n",
       "      <td>0</td>\n",
       "    </tr>\n",
       "    <tr>\n",
       "      <th>formerly smoked</th>\n",
       "      <td>0</td>\n",
       "      <td>1</td>\n",
       "      <td>0</td>\n",
       "      <td>0</td>\n",
       "    </tr>\n",
       "    <tr>\n",
       "      <th>never smoked</th>\n",
       "      <td>0</td>\n",
       "      <td>0</td>\n",
       "      <td>1</td>\n",
       "      <td>0</td>\n",
       "    </tr>\n",
       "    <tr>\n",
       "      <th>smokes</th>\n",
       "      <td>0</td>\n",
       "      <td>0</td>\n",
       "      <td>0</td>\n",
       "      <td>1</td>\n",
       "    </tr>\n",
       "  </tbody>\n",
       "</table>\n",
       "</div>"
      ],
      "text/plain": [
       "                 0  1  2  3\n",
       "Unknown          1  0  0  0\n",
       "formerly smoked  0  1  0  0\n",
       "never smoked     0  0  1  0\n",
       "smokes           0  0  0  1"
      ]
     },
     "execution_count": 11,
     "metadata": {},
     "output_type": "execute_result"
    }
   ],
   "source": [
    "pd.DataFrame.from_dict(codes['smoking_status'], orient='index')"
   ]
  },
  {
   "cell_type": "markdown",
   "id": "413aaa65",
   "metadata": {
    "papermill": {
     "duration": 0.006897,
     "end_time": "2022-07-23T15:29:10.886939",
     "exception": false,
     "start_time": "2022-07-23T15:29:10.880042",
     "status": "completed"
    },
    "tags": []
   },
   "source": [
    "## Finding outliers\n",
    "\n",
    "The replace outliers function detect and replace outliers values by the column mean or median. For this purpose, we are calculating lower (Q1) and upper (Q3) quartiles, so outliers are out of the range $[Q1-1.5·IQR, Q3*1.5·IQR]$, where $IQR = Q3-Q1$. This is applied iteratively, because, after a replacement, statistics can change and new outliers appear."
   ]
  },
  {
   "cell_type": "code",
   "execution_count": 12,
   "id": "6b9b7f07",
   "metadata": {
    "execution": {
     "iopub.execute_input": "2022-07-23T15:29:10.940178Z",
     "iopub.status.busy": "2022-07-23T15:29:10.939784Z",
     "iopub.status.idle": "2022-07-23T15:29:10.947676Z",
     "shell.execute_reply": "2022-07-23T15:29:10.946089Z"
    },
    "papermill": {
     "duration": 0.019018,
     "end_time": "2022-07-23T15:29:10.950185",
     "exception": false,
     "start_time": "2022-07-23T15:29:10.931167",
     "status": "completed"
    },
    "tags": []
   },
   "outputs": [
    {
     "name": "stdout",
     "output_type": "stream",
     "text": [
      "***Found a total of 0 outliers over 1 iterations.***\n",
      "\n"
     ]
    },
    {
     "data": {
      "text/html": [
       "<div>\n",
       "<style scoped>\n",
       "    .dataframe tbody tr th:only-of-type {\n",
       "        vertical-align: middle;\n",
       "    }\n",
       "\n",
       "    .dataframe tbody tr th {\n",
       "        vertical-align: top;\n",
       "    }\n",
       "\n",
       "    .dataframe thead th {\n",
       "        text-align: right;\n",
       "    }\n",
       "</style>\n",
       "<table border=\"1\" class=\"dataframe\">\n",
       "  <thead>\n",
       "    <tr style=\"text-align: right;\">\n",
       "      <th></th>\n",
       "      <th>gender</th>\n",
       "      <th>age</th>\n",
       "      <th>hypertension</th>\n",
       "      <th>heart_disease</th>\n",
       "      <th>ever_married</th>\n",
       "      <th>Residence_type</th>\n",
       "      <th>avg_glucose_level</th>\n",
       "      <th>bmi</th>\n",
       "      <th>stroke</th>\n",
       "      <th>work_type_Govt_job</th>\n",
       "      <th>work_type_Private</th>\n",
       "      <th>work_type_Self-employed</th>\n",
       "      <th>work_type_children</th>\n",
       "      <th>smoking_status_Unknown</th>\n",
       "      <th>smoking_status_formerly smoked</th>\n",
       "      <th>smoking_status_never smoked</th>\n",
       "      <th>smoking_status_smokes</th>\n",
       "    </tr>\n",
       "  </thead>\n",
       "  <tbody>\n",
       "    <tr>\n",
       "      <th>count</th>\n",
       "      <td>4981.000000</td>\n",
       "      <td>4981.000000</td>\n",
       "      <td>4981.000000</td>\n",
       "      <td>4981.000000</td>\n",
       "      <td>4981.000000</td>\n",
       "      <td>4981.000000</td>\n",
       "      <td>4981.000000</td>\n",
       "      <td>4981.000000</td>\n",
       "      <td>4981.000000</td>\n",
       "      <td>4981.000000</td>\n",
       "      <td>4981.000000</td>\n",
       "      <td>4981.000000</td>\n",
       "      <td>4981.000000</td>\n",
       "      <td>4981.000000</td>\n",
       "      <td>4981.000000</td>\n",
       "      <td>4981.000000</td>\n",
       "      <td>4981.000000</td>\n",
       "    </tr>\n",
       "    <tr>\n",
       "      <th>mean</th>\n",
       "      <td>0.416382</td>\n",
       "      <td>43.419859</td>\n",
       "      <td>0.096165</td>\n",
       "      <td>0.055210</td>\n",
       "      <td>0.658502</td>\n",
       "      <td>0.508332</td>\n",
       "      <td>105.943562</td>\n",
       "      <td>28.498173</td>\n",
       "      <td>0.049789</td>\n",
       "      <td>0.129291</td>\n",
       "      <td>0.574182</td>\n",
       "      <td>0.161413</td>\n",
       "      <td>0.135113</td>\n",
       "      <td>0.301144</td>\n",
       "      <td>0.174061</td>\n",
       "      <td>0.369002</td>\n",
       "      <td>0.155792</td>\n",
       "    </tr>\n",
       "    <tr>\n",
       "      <th>std</th>\n",
       "      <td>0.493008</td>\n",
       "      <td>22.662755</td>\n",
       "      <td>0.294848</td>\n",
       "      <td>0.228412</td>\n",
       "      <td>0.474260</td>\n",
       "      <td>0.499981</td>\n",
       "      <td>45.075373</td>\n",
       "      <td>6.790464</td>\n",
       "      <td>0.217531</td>\n",
       "      <td>0.335556</td>\n",
       "      <td>0.494516</td>\n",
       "      <td>0.367949</td>\n",
       "      <td>0.341879</td>\n",
       "      <td>0.458801</td>\n",
       "      <td>0.379200</td>\n",
       "      <td>0.482583</td>\n",
       "      <td>0.362694</td>\n",
       "    </tr>\n",
       "    <tr>\n",
       "      <th>min</th>\n",
       "      <td>0.000000</td>\n",
       "      <td>0.080000</td>\n",
       "      <td>0.000000</td>\n",
       "      <td>0.000000</td>\n",
       "      <td>0.000000</td>\n",
       "      <td>0.000000</td>\n",
       "      <td>55.120000</td>\n",
       "      <td>14.000000</td>\n",
       "      <td>0.000000</td>\n",
       "      <td>0.000000</td>\n",
       "      <td>0.000000</td>\n",
       "      <td>0.000000</td>\n",
       "      <td>0.000000</td>\n",
       "      <td>0.000000</td>\n",
       "      <td>0.000000</td>\n",
       "      <td>0.000000</td>\n",
       "      <td>0.000000</td>\n",
       "    </tr>\n",
       "    <tr>\n",
       "      <th>25%</th>\n",
       "      <td>0.000000</td>\n",
       "      <td>25.000000</td>\n",
       "      <td>0.000000</td>\n",
       "      <td>0.000000</td>\n",
       "      <td>0.000000</td>\n",
       "      <td>0.000000</td>\n",
       "      <td>77.230000</td>\n",
       "      <td>23.700000</td>\n",
       "      <td>0.000000</td>\n",
       "      <td>0.000000</td>\n",
       "      <td>0.000000</td>\n",
       "      <td>0.000000</td>\n",
       "      <td>0.000000</td>\n",
       "      <td>0.000000</td>\n",
       "      <td>0.000000</td>\n",
       "      <td>0.000000</td>\n",
       "      <td>0.000000</td>\n",
       "    </tr>\n",
       "    <tr>\n",
       "      <th>50%</th>\n",
       "      <td>0.000000</td>\n",
       "      <td>45.000000</td>\n",
       "      <td>0.000000</td>\n",
       "      <td>0.000000</td>\n",
       "      <td>1.000000</td>\n",
       "      <td>1.000000</td>\n",
       "      <td>91.850000</td>\n",
       "      <td>28.100000</td>\n",
       "      <td>0.000000</td>\n",
       "      <td>0.000000</td>\n",
       "      <td>1.000000</td>\n",
       "      <td>0.000000</td>\n",
       "      <td>0.000000</td>\n",
       "      <td>0.000000</td>\n",
       "      <td>0.000000</td>\n",
       "      <td>0.000000</td>\n",
       "      <td>0.000000</td>\n",
       "    </tr>\n",
       "    <tr>\n",
       "      <th>75%</th>\n",
       "      <td>1.000000</td>\n",
       "      <td>61.000000</td>\n",
       "      <td>0.000000</td>\n",
       "      <td>0.000000</td>\n",
       "      <td>1.000000</td>\n",
       "      <td>1.000000</td>\n",
       "      <td>113.860000</td>\n",
       "      <td>32.600000</td>\n",
       "      <td>0.000000</td>\n",
       "      <td>0.000000</td>\n",
       "      <td>1.000000</td>\n",
       "      <td>0.000000</td>\n",
       "      <td>0.000000</td>\n",
       "      <td>1.000000</td>\n",
       "      <td>0.000000</td>\n",
       "      <td>1.000000</td>\n",
       "      <td>0.000000</td>\n",
       "    </tr>\n",
       "    <tr>\n",
       "      <th>max</th>\n",
       "      <td>1.000000</td>\n",
       "      <td>82.000000</td>\n",
       "      <td>1.000000</td>\n",
       "      <td>1.000000</td>\n",
       "      <td>1.000000</td>\n",
       "      <td>1.000000</td>\n",
       "      <td>271.740000</td>\n",
       "      <td>48.900000</td>\n",
       "      <td>1.000000</td>\n",
       "      <td>1.000000</td>\n",
       "      <td>1.000000</td>\n",
       "      <td>1.000000</td>\n",
       "      <td>1.000000</td>\n",
       "      <td>1.000000</td>\n",
       "      <td>1.000000</td>\n",
       "      <td>1.000000</td>\n",
       "      <td>1.000000</td>\n",
       "    </tr>\n",
       "  </tbody>\n",
       "</table>\n",
       "</div>"
      ],
      "text/plain": [
       "            gender          age  hypertension  heart_disease  ever_married  \\\n",
       "count  4981.000000  4981.000000   4981.000000    4981.000000   4981.000000   \n",
       "mean      0.416382    43.419859      0.096165       0.055210      0.658502   \n",
       "std       0.493008    22.662755      0.294848       0.228412      0.474260   \n",
       "min       0.000000     0.080000      0.000000       0.000000      0.000000   \n",
       "25%       0.000000    25.000000      0.000000       0.000000      0.000000   \n",
       "50%       0.000000    45.000000      0.000000       0.000000      1.000000   \n",
       "75%       1.000000    61.000000      0.000000       0.000000      1.000000   \n",
       "max       1.000000    82.000000      1.000000       1.000000      1.000000   \n",
       "\n",
       "       Residence_type  avg_glucose_level          bmi       stroke  \\\n",
       "count     4981.000000        4981.000000  4981.000000  4981.000000   \n",
       "mean         0.508332         105.943562    28.498173     0.049789   \n",
       "std          0.499981          45.075373     6.790464     0.217531   \n",
       "min          0.000000          55.120000    14.000000     0.000000   \n",
       "25%          0.000000          77.230000    23.700000     0.000000   \n",
       "50%          1.000000          91.850000    28.100000     0.000000   \n",
       "75%          1.000000         113.860000    32.600000     0.000000   \n",
       "max          1.000000         271.740000    48.900000     1.000000   \n",
       "\n",
       "       work_type_Govt_job  work_type_Private  work_type_Self-employed  \\\n",
       "count         4981.000000        4981.000000              4981.000000   \n",
       "mean             0.129291           0.574182                 0.161413   \n",
       "std              0.335556           0.494516                 0.367949   \n",
       "min              0.000000           0.000000                 0.000000   \n",
       "25%              0.000000           0.000000                 0.000000   \n",
       "50%              0.000000           1.000000                 0.000000   \n",
       "75%              0.000000           1.000000                 0.000000   \n",
       "max              1.000000           1.000000                 1.000000   \n",
       "\n",
       "       work_type_children  smoking_status_Unknown  \\\n",
       "count         4981.000000             4981.000000   \n",
       "mean             0.135113                0.301144   \n",
       "std              0.341879                0.458801   \n",
       "min              0.000000                0.000000   \n",
       "25%              0.000000                0.000000   \n",
       "50%              0.000000                0.000000   \n",
       "75%              0.000000                1.000000   \n",
       "max              1.000000                1.000000   \n",
       "\n",
       "       smoking_status_formerly smoked  smoking_status_never smoked  \\\n",
       "count                     4981.000000                  4981.000000   \n",
       "mean                         0.174061                     0.369002   \n",
       "std                          0.379200                     0.482583   \n",
       "min                          0.000000                     0.000000   \n",
       "25%                          0.000000                     0.000000   \n",
       "50%                          0.000000                     0.000000   \n",
       "75%                          0.000000                     1.000000   \n",
       "max                          1.000000                     1.000000   \n",
       "\n",
       "       smoking_status_smokes  \n",
       "count            4981.000000  \n",
       "mean                0.155792  \n",
       "std                 0.362694  \n",
       "min                 0.000000  \n",
       "25%                 0.000000  \n",
       "50%                 0.000000  \n",
       "75%                 0.000000  \n",
       "max                 1.000000  "
      ]
     },
     "execution_count": 12,
     "metadata": {},
     "output_type": "execute_result"
    }
   ],
   "source": [
    "import aux\n",
    "\n",
    "new_data = aux.replace_outliers(data)\n",
    "new_data.describe()"
   ]
  },
  {
   "cell_type": "markdown",
   "id": "5c773fdf",
   "metadata": {},
   "source": [
    "## Store data"
   ]
  },
  {
   "cell_type": "markdown",
   "id": "98140765",
   "metadata": {},
   "source": [
    "Finally, our data is ready to be stored and used later:"
   ]
  },
  {
   "cell_type": "code",
   "execution_count": 13,
   "id": "70cea35c",
   "metadata": {},
   "outputs": [],
   "source": [
    "from pathlib import Path  \n",
    "filepath = Path('data/out.csv')  \n",
    "filepath.parent.mkdir(parents=True, exist_ok=True)  \n",
    "new_data.to_csv(filepath, index=False)"
   ]
  }
 ],
 "metadata": {
  "kernelspec": {
   "display_name": "Python 3 (ipykernel)",
   "language": "python",
   "name": "python3"
  },
  "language_info": {
   "codemirror_mode": {
    "name": "ipython",
    "version": 3
   },
   "file_extension": ".py",
   "mimetype": "text/x-python",
   "name": "python",
   "nbconvert_exporter": "python",
   "pygments_lexer": "ipython3",
   "version": "3.10.4"
  },
  "papermill": {
   "default_parameters": {},
   "duration": 19.193287,
   "end_time": "2022-07-23T15:29:14.553334",
   "environment_variables": {},
   "exception": null,
   "input_path": "__notebook__.ipynb",
   "output_path": "__notebook__.ipynb",
   "parameters": {},
   "start_time": "2022-07-23T15:28:55.360047",
   "version": "2.3.4"
  },
  "vscode": {
   "interpreter": {
    "hash": "916dbcbb3f70747c44a77c7bcd40155683ae19c65e1c03b4aa3499c5328201f1"
   }
  }
 },
 "nbformat": 4,
 "nbformat_minor": 5
}
